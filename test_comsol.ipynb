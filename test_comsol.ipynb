{
 "cells": [
  {
   "cell_type": "code",
   "execution_count": 39,
   "metadata": {},
   "outputs": [],
   "source": [
    "import mph\n",
    "import numpy as np\n"
   ]
  },
  {
   "cell_type": "code",
   "execution_count": 40,
   "metadata": {},
   "outputs": [],
   "source": [
    "\n",
    "client=mph.start()\n",
    "model = client.load('basic_model.mph')"
   ]
  },
  {
   "cell_type": "code",
   "execution_count": 41,
   "metadata": {},
   "outputs": [
    {
     "name": "stdout",
     "output_type": "stream",
     "text": [
      "['V_solved_20V', 'V_solved_20V', 'basic_model']\n"
     ]
    }
   ],
   "source": [
    "print(client.names())"
   ]
  },
  {
   "cell_type": "code",
   "execution_count": 42,
   "metadata": {},
   "outputs": [
    {
     "name": "stdout",
     "output_type": "stream",
     "text": [
      "{'Voltage': '2'}\n",
      "['Material 1', 'Material 2']\n",
      "['Electric Currents']\n"
     ]
    }
   ],
   "source": [
    "print(model.parameters())\n",
    "print(model.materials())\n",
    "print(model.physics())"
   ]
  },
  {
   "cell_type": "code",
   "execution_count": 43,
   "metadata": {},
   "outputs": [],
   "source": [
    "# update parameters and save new project\n",
    "model.parameter('Voltage', '20')\n",
    "model.build()\n",
    "model.save('export/V_solved_20V')\n",
    "\n",
    "\n"
   ]
  },
  {
   "cell_type": "code",
   "execution_count": 50,
   "metadata": {},
   "outputs": [
    {
     "name": "stdout",
     "output_type": "stream",
     "text": [
      "current parameter {'Voltage': '2'}\n",
      "maximum voltage : 2.0000000000000004\n",
      "current parameter {'Voltage': '3'}\n",
      "maximum voltage : 3.0000000000000004\n",
      "current parameter {'Voltage': '4'}\n",
      "maximum voltage : 4.000000000000001\n",
      "current parameter {'Voltage': '5'}\n",
      "maximum voltage : 5.000000000000001\n",
      "current parameter {'Voltage': '6'}\n",
      "maximum voltage : 6.000000000000001\n",
      "current parameter {'Voltage': '7'}\n",
      "maximum voltage : 7.000000000000002\n",
      "current parameter {'Voltage': '8'}\n",
      "maximum voltage : 8.000000000000002\n",
      "current parameter {'Voltage': '9'}\n",
      "maximum voltage : 9.000000000000002\n",
      "current parameter {'Voltage': '10'}\n",
      "maximum voltage : 10.000000000000002\n",
      "current parameter {'Voltage': '11'}\n",
      "maximum voltage : 11.000000000000002\n"
     ]
    }
   ],
   "source": [
    "#more simulation with differents parameters\n",
    "\n",
    "v_int=2\n",
    "v_max=12\n",
    "for voltage in range(v_int,v_max):\n",
    "    model.parameter('Voltage', str(voltage))\n",
    "    print('current parameter', model.parameters())\n",
    "    model.build() # build model with new parameters\n",
    "    model.solve('Study 1')\n",
    "    vdata=model.evaluate(['0','0','V'])\n",
    "    vmax=np.max(np.concatenate(vdata))\n",
    "    print('maximum voltage :', vmax)\n",
    "    model.export('Image 1',f'export/V_solved_{voltage}V.png') # non funzia ???\n",
    "    model.save('export/V_solved_'+str(voltage)+'V')"
   ]
  }
 ],
 "metadata": {
  "kernelspec": {
   "display_name": "Python 3",
   "language": "python",
   "name": "python3"
  },
  "language_info": {
   "codemirror_mode": {
    "name": "ipython",
    "version": 3
   },
   "file_extension": ".py",
   "mimetype": "text/x-python",
   "name": "python",
   "nbconvert_exporter": "python",
   "pygments_lexer": "ipython3",
   "version": "3.10.14"
  }
 },
 "nbformat": 4,
 "nbformat_minor": 2
}
